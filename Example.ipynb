{
 "cells": [
  {
   "cell_type": "markdown",
   "metadata": {},
   "source": [
    "# Web Socket Example\n",
    "This is an example Demonstrating the use of this library"
   ]
  },
  {
   "cell_type": "code",
   "execution_count": 1,
   "metadata": {
    "collapsed": false
   },
   "outputs": [],
   "source": [
    "import websock\n",
    "import threading\n",
    "\n",
    "class MySocketHandler(websock.WebSocketDelegate):\n",
    "    def OnConnect(self):\n",
    "        print(\"connected\")\n",
    "        self.socket.send(\"Hi!\")\n",
    "    def OnRecieve(self,data):\n",
    "        print(\"Got Message {}\".format(data))\n",
    "websock.run_server_in_bg(MySocketHandler)"
   ]
  },
  {
   "cell_type": "markdown",
   "metadata": {},
   "source": [
    "Now Let's test with chrome"
   ]
  },
  {
   "cell_type": "code",
   "execution_count": 3,
   "metadata": {
    "collapsed": false
   },
   "outputs": [
    {
     "name": "stdout",
     "output_type": "stream",
     "text": [
      "using v13\n",
      "connected\n",
      "Got Message b\"Here's some text that the server is urgently awaiting!\"\n"
     ]
    },
    {
     "data": {
      "application/javascript": [
       "console.log(\"creating WS\")\n",
       "var exampleSocket = new WebSocket(\"ws://127.0.0.1:9999\");\n",
       "exampleSocket.onopen = function (event) {\n",
       "    console.log(\"WS connected\")\n",
       "  exampleSocket.send(\"Here's some text that the server is urgently awaiting!\"); \n",
       "};\n",
       "exampleSocket.onmessage = function (event) {\n",
       "  alert(event.data);\n",
       "}"
      ],
      "text/plain": [
       "<IPython.core.display.Javascript object>"
      ]
     },
     "metadata": {},
     "output_type": "display_data"
    }
   ],
   "source": [
    "%%javascript\n",
    "console.log(\"creating WS\")\n",
    "var exampleSocket = new WebSocket(\"ws://127.0.0.1:9999\");\n",
    "exampleSocket.onopen = function (event) {\n",
    "    console.log(\"WS connected\")\n",
    "  exampleSocket.send(\"Here's some text that the server is urgently awaiting!\"); \n",
    "};\n",
    "exampleSocket.onmessage = function (event) {\n",
    "  alert(event.data);\n",
    "}"
   ]
  },
  {
   "cell_type": "code",
   "execution_count": null,
   "metadata": {
    "collapsed": true
   },
   "outputs": [],
   "source": []
  }
 ],
 "metadata": {
  "kernelspec": {
   "display_name": "Python 3",
   "language": "python",
   "name": "python3"
  },
  "language_info": {
   "codemirror_mode": {
    "name": "ipython",
    "version": 3
   },
   "file_extension": ".py",
   "mimetype": "text/x-python",
   "name": "python",
   "nbconvert_exporter": "python",
   "pygments_lexer": "ipython3",
   "version": "3.4.3"
  }
 },
 "nbformat": 4,
 "nbformat_minor": 0
}
